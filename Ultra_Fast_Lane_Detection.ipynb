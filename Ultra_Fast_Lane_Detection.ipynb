{
  "nbformat": 4,
  "nbformat_minor": 0,
  "metadata": {
    "colab": {
      "provenance": [],
      "authorship_tag": "ABX9TyMosP21x17wiognjSG1EKJ1",
      "include_colab_link": true
    },
    "kernelspec": {
      "name": "python3",
      "display_name": "Python 3"
    },
    "language_info": {
      "name": "python"
    },
    "gpuClass": "standard",
    "accelerator": "GPU"
  },
  "cells": [
    {
      "cell_type": "markdown",
      "metadata": {
        "id": "view-in-github",
        "colab_type": "text"
      },
      "source": [
        "<a href=\"https://colab.research.google.com/github/xiaotanmo/robotics-app/blob/main/Ultra_Fast_Lane_Detection.ipynb\" target=\"_parent\"><img src=\"https://colab.research.google.com/assets/colab-badge.svg\" alt=\"Open In Colab\"/></a>"
      ]
    },
    {
      "cell_type": "code",
      "execution_count": null,
      "metadata": {
        "colab": {
          "base_uri": "https://localhost:8080/"
        },
        "id": "DHztkHBLnMSF",
        "outputId": "b6d7cb63-ed18-40ba-c006-21101018445a"
      },
      "outputs": [
        {
          "output_type": "stream",
          "name": "stdout",
          "text": [
            "Mounted at /content/gdrive\n"
          ]
        }
      ],
      "source": [
        "# connect to google drive\n",
        "from google.colab import drive\n",
        "drive.mount('/content/gdrive')"
      ]
    },
    {
      "cell_type": "code",
      "source": [],
      "metadata": {
        "id": "jE4eMo20iQHT"
      },
      "execution_count": null,
      "outputs": []
    },
    {
      "cell_type": "code",
      "source": [
        "!nvidia-smi"
      ],
      "metadata": {
        "colab": {
          "base_uri": "https://localhost:8080/"
        },
        "id": "-xXbvA2EXOPE",
        "outputId": "09828a46-8109-49e6-fd51-c884cdf740aa"
      },
      "execution_count": null,
      "outputs": [
        {
          "output_type": "stream",
          "name": "stdout",
          "text": [
            "Sat Apr 15 05:22:10 2023       \n",
            "+-----------------------------------------------------------------------------+\n",
            "| NVIDIA-SMI 525.85.12    Driver Version: 525.85.12    CUDA Version: 12.0     |\n",
            "|-------------------------------+----------------------+----------------------+\n",
            "| GPU  Name        Persistence-M| Bus-Id        Disp.A | Volatile Uncorr. ECC |\n",
            "| Fan  Temp  Perf  Pwr:Usage/Cap|         Memory-Usage | GPU-Util  Compute M. |\n",
            "|                               |                      |               MIG M. |\n",
            "|===============================+======================+======================|\n",
            "|   0  Tesla T4            Off  | 00000000:00:04.0 Off |                    0 |\n",
            "| N/A   42C    P8     9W /  70W |      0MiB / 15360MiB |      0%      Default |\n",
            "|                               |                      |                  N/A |\n",
            "+-------------------------------+----------------------+----------------------+\n",
            "                                                                               \n",
            "+-----------------------------------------------------------------------------+\n",
            "| Processes:                                                                  |\n",
            "|  GPU   GI   CI        PID   Type   Process name                  GPU Memory |\n",
            "|        ID   ID                                                   Usage      |\n",
            "|=============================================================================|\n",
            "|  No running processes found                                                 |\n",
            "+-----------------------------------------------------------------------------+\n"
          ]
        }
      ]
    },
    {
      "cell_type": "code",
      "source": [
        "# install required package\n",
        "!pip install torchvision\n",
        "!pip install --extra-index-url https://developer.download.nvidia.com/compute/redist --upgrade nvidia-dali-cuda110\n",
        "!pip install --extra-index-url https://developer.download.nvidia.com/compute/redist --upgrade nvidia-dali-tf-plugin-cuda110"
      ],
      "metadata": {
        "id": "mItDkEBVEch4"
      },
      "execution_count": null,
      "outputs": []
    },
    {
      "cell_type": "code",
      "source": [
        "# change path\n",
        "import os\n",
        "os.chdir(\"/content/gdrive/MyDrive/Colab Notebooks/CV/Ultra-Fast-Lane-Detection-v2\")"
      ],
      "metadata": {
        "id": "thv-_3tc72jc"
      },
      "execution_count": null,
      "outputs": []
    },
    {
      "cell_type": "code",
      "source": [
        "# check current path\n",
        "!ls"
      ],
      "metadata": {
        "colab": {
          "base_uri": "https://localhost:8080/"
        },
        "id": "pvf4gxJOF5yh",
        "outputId": "d2f660fd-be25-42f7-b65c-c7461949436f"
      },
      "execution_count": null,
      "outputs": [
        {
          "output_type": "stream",
          "name": "stdout",
          "text": [
            "configs\n",
            "cuda-repo-ubuntu1804_10.0.130-1_amd64.deb\n",
            "data\n",
            "demo.py\n",
            "evaluation\n",
            "INSTALL.md\n",
            "LICENSE\n",
            "model\n",
            "my_interp\n",
            "nvidia-machine-learning-repo-ubuntu1804_1.0.0-1_amd64.deb\n",
            "README.md\n",
            "requirements.txt\n",
            "scripts\n",
            "speed_simple.py\n",
            "test.py\n",
            "train.py\n",
            "ufldv2.png\n",
            "utils\n"
          ]
        }
      ]
    },
    {
      "cell_type": "code",
      "source": [
        "!pip install addict\n",
        "!pip install pathspec\n",
        "!pip install ujson\n",
        "!pip install -r requirements.txt\n",
        "!pip install --extra-index-url https://developer.download.nvidia.com/compute/redist --upgrade nvidia-dali-cuda110"
      ],
      "metadata": {
        "id": "vvVlbHNIISRQ"
      },
      "execution_count": null,
      "outputs": []
    },
    {
      "cell_type": "code",
      "source": [
        "%cd my_interp\n",
        "!ls\n",
        "!bash build.sh"
      ],
      "metadata": {
        "id": "GaGq1502No8a"
      },
      "execution_count": null,
      "outputs": []
    },
    {
      "cell_type": "code",
      "source": [
        "!which nvcc\n",
        "!export CUDA_HOME=/usr/local/cuda"
      ],
      "metadata": {
        "colab": {
          "base_uri": "https://localhost:8080/"
        },
        "id": "npr7Gy0IPWRX",
        "outputId": "c3fd4162-065c-47f9-83f8-d76c18a10ec0"
      },
      "execution_count": null,
      "outputs": [
        {
          "output_type": "stream",
          "name": "stdout",
          "text": [
            "/usr/local/cuda/bin/nvcc\n"
          ]
        }
      ]
    },
    {
      "cell_type": "code",
      "source": [
        "!pip install Tensor\n",
        "import tensorrt\n",
        "print(tensorrt.__version__)"
      ],
      "metadata": {
        "colab": {
          "base_uri": "https://localhost:8080/",
          "height": 1000
        },
        "id": "lveRWK-aSQgP",
        "outputId": "ffa9f073-233b-4df8-d62e-c713944be08d"
      },
      "execution_count": null,
      "outputs": [
        {
          "output_type": "stream",
          "name": "stdout",
          "text": [
            "Looking in indexes: https://pypi.org/simple, https://us-python.pkg.dev/colab-wheels/public/simple/\n",
            "Collecting Tensor\n",
            "  Downloading tensor-0.3.6.tar.gz (50 kB)\n",
            "\u001b[2K     \u001b[90m━━━━━━━━━━━━━━━━━━━━━━━━━━━━━━━━━━━━━━━\u001b[0m \u001b[32m50.3/50.3 kB\u001b[0m \u001b[31m700.3 kB/s\u001b[0m eta \u001b[36m0:00:00\u001b[0m\n",
            "\u001b[?25h  Preparing metadata (setup.py) ... \u001b[?25l\u001b[?25hdone\n",
            "Collecting Twisted\n",
            "  Downloading Twisted-22.10.0-py3-none-any.whl (3.1 MB)\n",
            "\u001b[2K     \u001b[90m━━━━━━━━━━━━━━━━━━━━━━━━━━━━━━━━━━━━━━━━\u001b[0m \u001b[32m3.1/3.1 MB\u001b[0m \u001b[31m15.5 MB/s\u001b[0m eta \u001b[36m0:00:00\u001b[0m\n",
            "\u001b[?25hRequirement already satisfied: PyYaml in /usr/local/lib/python3.9/dist-packages (from Tensor) (6.0)\n",
            "Requirement already satisfied: protobuf in /usr/local/lib/python3.9/dist-packages (from Tensor) (3.20.3)\n",
            "Collecting construct\n",
            "  Downloading construct-2.10.68.tar.gz (57 kB)\n",
            "\u001b[2K     \u001b[90m━━━━━━━━━━━━━━━━━━━━━━━━━━━━━━━━━━━━━━━\u001b[0m \u001b[32m57.9/57.9 kB\u001b[0m \u001b[31m538.5 kB/s\u001b[0m eta \u001b[36m0:00:00\u001b[0m\n",
            "\u001b[?25h  Preparing metadata (setup.py) ... \u001b[?25l\u001b[?25hdone\n",
            "Collecting pysnmp\n",
            "  Downloading pysnmp-4.4.12-py2.py3-none-any.whl (296 kB)\n",
            "\u001b[2K     \u001b[90m━━━━━━━━━━━━━━━━━━━━━━━━━━━━━━━━━━━━━━\u001b[0m \u001b[32m296.5/296.5 kB\u001b[0m \u001b[31m16.4 MB/s\u001b[0m eta \u001b[36m0:00:00\u001b[0m\n",
            "\u001b[?25hCollecting pysmi\n",
            "  Downloading pysmi-0.3.4-py2.py3-none-any.whl (80 kB)\n",
            "\u001b[2K     \u001b[90m━━━━━━━━━━━━━━━━━━━━━━━━━━━━━━━━━━━━━━━━\u001b[0m \u001b[32m80.0/80.0 kB\u001b[0m \u001b[31m2.9 MB/s\u001b[0m eta \u001b[36m0:00:00\u001b[0m\n",
            "\u001b[?25hRequirement already satisfied: pyasn1>=0.2.3 in /usr/local/lib/python3.9/dist-packages (from pysnmp->Tensor) (0.4.8)\n",
            "Collecting pycryptodomex\n",
            "  Downloading pycryptodomex-3.17-cp35-abi3-manylinux_2_17_x86_64.manylinux2014_x86_64.whl (2.1 MB)\n",
            "\u001b[2K     \u001b[90m━━━━━━━━━━━━━━━━━━━━━━━━━━━━━━━━━━━━━━━━\u001b[0m \u001b[32m2.1/2.1 MB\u001b[0m \u001b[31m43.6 MB/s\u001b[0m eta \u001b[36m0:00:00\u001b[0m\n",
            "\u001b[?25hCollecting Automat>=0.8.0\n",
            "  Downloading Automat-22.10.0-py2.py3-none-any.whl (26 kB)\n",
            "Collecting hyperlink>=17.1.1\n",
            "  Downloading hyperlink-21.0.0-py2.py3-none-any.whl (74 kB)\n",
            "\u001b[2K     \u001b[90m━━━━━━━━━━━━━━━━━━━━━━━━━━━━━━━━━━━━━━━━\u001b[0m \u001b[32m74.6/74.6 kB\u001b[0m \u001b[31m5.3 MB/s\u001b[0m eta \u001b[36m0:00:00\u001b[0m\n",
            "\u001b[?25hCollecting zope.interface>=4.4.2\n",
            "  Downloading zope.interface-6.0-cp39-cp39-manylinux_2_5_x86_64.manylinux1_x86_64.manylinux_2_17_x86_64.manylinux2014_x86_64.whl (246 kB)\n",
            "\u001b[2K     \u001b[90m━━━━━━━━━━━━━━━━━━━━━━━━━━━━━━━━━━━━━━\u001b[0m \u001b[32m246.1/246.1 kB\u001b[0m \u001b[31m10.5 MB/s\u001b[0m eta \u001b[36m0:00:00\u001b[0m\n",
            "\u001b[?25hCollecting constantly>=15.1\n",
            "  Downloading constantly-15.1.0-py2.py3-none-any.whl (7.9 kB)\n",
            "Requirement already satisfied: typing-extensions>=3.6.5 in /usr/local/lib/python3.9/dist-packages (from Twisted->Tensor) (4.5.0)\n",
            "Collecting incremental>=21.3.0\n",
            "  Downloading incremental-22.10.0-py2.py3-none-any.whl (16 kB)\n",
            "Requirement already satisfied: attrs>=19.2.0 in /usr/local/lib/python3.9/dist-packages (from Twisted->Tensor) (22.2.0)\n",
            "Requirement already satisfied: six in /usr/local/lib/python3.9/dist-packages (from Automat>=0.8.0->Twisted->Tensor) (1.16.0)\n",
            "Requirement already satisfied: idna>=2.5 in /usr/local/lib/python3.9/dist-packages (from hyperlink>=17.1.1->Twisted->Tensor) (3.4)\n",
            "Requirement already satisfied: setuptools in /usr/local/lib/python3.9/dist-packages (from zope.interface>=4.4.2->Twisted->Tensor) (67.6.1)\n",
            "Collecting ply\n",
            "  Downloading ply-3.11-py2.py3-none-any.whl (49 kB)\n",
            "\u001b[2K     \u001b[90m━━━━━━━━━━━━━━━━━━━━━━━━━━━━━━━━━━━━━━━━\u001b[0m \u001b[32m49.6/49.6 kB\u001b[0m \u001b[31m2.8 MB/s\u001b[0m eta \u001b[36m0:00:00\u001b[0m\n",
            "\u001b[?25hBuilding wheels for collected packages: Tensor, construct\n",
            "  Building wheel for Tensor (setup.py) ... \u001b[?25l\u001b[?25hdone\n",
            "  Created wheel for Tensor: filename=tensor-0.3.6-py3-none-any.whl size=71567 sha256=43e117c9d7f4c8adeea6c90dc4f35c94657b62192de59b73173839a0400ac85d\n",
            "  Stored in directory: /root/.cache/pip/wheels/74/86/de/a812020c1b6bac75652227a1c315400422857adba7252ff69f\n",
            "  Building wheel for construct (setup.py) ... \u001b[?25l\u001b[?25hdone\n",
            "  Created wheel for construct: filename=construct-2.10.68-py3-none-any.whl size=59224 sha256=c36b93bcf1fcf9c252dfb44b858ad908f3641d1fdc56bec2415a235ceb3d998b\n",
            "  Stored in directory: /root/.cache/pip/wheels/00/1c/64/ddaac89a721654e15e30ae193023c26da4c8677547cb38268b\n",
            "Successfully built Tensor construct\n",
            "Installing collected packages: ply, incremental, constantly, zope.interface, pysmi, pycryptodomex, hyperlink, construct, Automat, Twisted, pysnmp, Tensor\n",
            "Successfully installed Automat-22.10.0 Tensor-0.3.6 Twisted-22.10.0 constantly-15.1.0 construct-2.10.68 hyperlink-21.0.0 incremental-22.10.0 ply-3.11 pycryptodomex-3.17 pysmi-0.3.4 pysnmp-4.4.12 zope.interface-6.0\n"
          ]
        },
        {
          "output_type": "error",
          "ename": "ModuleNotFoundError",
          "evalue": "ignored",
          "traceback": [
            "\u001b[0;31m---------------------------------------------------------------------------\u001b[0m",
            "\u001b[0;31mModuleNotFoundError\u001b[0m                       Traceback (most recent call last)",
            "\u001b[0;32m<ipython-input-1-afcf452e1175>\u001b[0m in \u001b[0;36m<cell line: 2>\u001b[0;34m()\u001b[0m\n\u001b[1;32m      1\u001b[0m \u001b[0mget_ipython\u001b[0m\u001b[0;34m(\u001b[0m\u001b[0;34m)\u001b[0m\u001b[0;34m.\u001b[0m\u001b[0msystem\u001b[0m\u001b[0;34m(\u001b[0m\u001b[0;34m'pip install Tensor'\u001b[0m\u001b[0;34m)\u001b[0m\u001b[0;34m\u001b[0m\u001b[0;34m\u001b[0m\u001b[0m\n\u001b[0;32m----> 2\u001b[0;31m \u001b[0;32mimport\u001b[0m \u001b[0mtensorrt\u001b[0m\u001b[0;34m\u001b[0m\u001b[0;34m\u001b[0m\u001b[0m\n\u001b[0m\u001b[1;32m      3\u001b[0m \u001b[0mprint\u001b[0m\u001b[0;34m(\u001b[0m\u001b[0mtensorrt\u001b[0m\u001b[0;34m.\u001b[0m\u001b[0m__version__\u001b[0m\u001b[0;34m)\u001b[0m\u001b[0;34m\u001b[0m\u001b[0;34m\u001b[0m\u001b[0m\n",
            "\u001b[0;31mModuleNotFoundError\u001b[0m: No module named 'tensorrt'",
            "",
            "\u001b[0;31m---------------------------------------------------------------------------\u001b[0;32m\nNOTE: If your import is failing due to a missing package, you can\nmanually install dependencies using either !pip or !apt.\n\nTo view examples of installing some common dependencies, click the\n\"Open Examples\" button below.\n\u001b[0;31m---------------------------------------------------------------------------\u001b[0m\n"
          ],
          "errorDetails": {
            "actions": [
              {
                "action": "open_url",
                "actionText": "Open Examples",
                "url": "/notebooks/snippets/importing_libraries.ipynb"
              }
            ]
          }
        }
      ]
    },
    {
      "cell_type": "code",
      "source": [
        "%cd /content/gdrive/MyDrive/Colab Notebooks/CV/Ultra-Fast-Lane-Detection-v2\n",
        "\n",
        "# train model\n",
        "!python train.py "
      ],
      "metadata": {
        "id": "2JlssAdM9WgK",
        "colab": {
          "base_uri": "https://localhost:8080/"
        },
        "outputId": "853cba7e-760a-4e0b-b487-432e3450ff2e"
      },
      "execution_count": null,
      "outputs": [
        {
          "output_type": "stream",
          "name": "stdout",
          "text": [
            "/content/gdrive/MyDrive/Colab Notebooks/CV/Ultra-Fast-Lane-Detection-v2\n",
            "2023-04-15 05:03:21.224329: I tensorflow/core/platform/cpu_feature_guard.cc:182] This TensorFlow binary is optimized to use available CPU instructions in performance-critical operations.\n",
            "To enable the following instructions: AVX2 FMA, in other operations, rebuild TensorFlow with the appropriate compiler flags.\n",
            "2023-04-15 05:03:22.867282: W tensorflow/compiler/tf2tensorrt/utils/py_utils.cc:38] TF-TRT Warning: Could not find TensorRT\n",
            "usage: train.py\n",
            "       [-h]\n",
            "       [--local_rank LOCAL_RANK]\n",
            "       [--dataset DATASET]\n",
            "       [--data_root DATA_ROOT]\n",
            "       [--epoch EPOCH]\n",
            "       [--batch_size BATCH_SIZE]\n",
            "       [--optimizer OPTIMIZER]\n",
            "       [--learning_rate LEARNING_RATE]\n",
            "       [--weight_decay WEIGHT_DECAY]\n",
            "       [--momentum MOMENTUM]\n",
            "       [--scheduler SCHEDULER]\n",
            "       [--steps STEPS [STEPS ...]]\n",
            "       [--gamma GAMMA]\n",
            "       [--warmup WARMUP]\n",
            "       [--warmup_iters WARMUP_ITERS]\n",
            "       [--backbone BACKBONE]\n",
            "       [--griding_num GRIDING_NUM]\n",
            "       [--use_aux USE_AUX]\n",
            "       [--sim_loss_w SIM_LOSS_W]\n",
            "       [--shp_loss_w SHP_LOSS_W]\n",
            "       [--note NOTE]\n",
            "       [--log_path LOG_PATH]\n",
            "       [--finetune FINETUNE]\n",
            "       [--resume RESUME]\n",
            "       [--test_model TEST_MODEL]\n",
            "       [--test_work_dir TEST_WORK_DIR]\n",
            "       [--num_lanes NUM_LANES]\n",
            "       [--auto_backup]\n",
            "       [--var_loss_power VAR_LOSS_POWER]\n",
            "       [--num_row NUM_ROW]\n",
            "       [--num_col NUM_COL]\n",
            "       [--train_width TRAIN_WIDTH]\n",
            "       [--train_height TRAIN_HEIGHT]\n",
            "       [--num_cell_row NUM_CELL_ROW]\n",
            "       [--num_cell_col NUM_CELL_COL]\n",
            "       [--mean_loss_w MEAN_LOSS_W]\n",
            "       [--fc_norm FC_NORM]\n",
            "       [--soft_loss SOFT_LOSS]\n",
            "       [--cls_loss_col_w CLS_LOSS_COL_W]\n",
            "       [--cls_ext_col_w CLS_EXT_COL_W]\n",
            "       [--mean_loss_col_w MEAN_LOSS_COL_W]\n",
            "       [--eval_mode EVAL_MODE]\n",
            "       [--eval_during_training EVAL_DURING_TRAINING]\n",
            "       [--split_channel SPLIT_CHANNEL]\n",
            "       [--match_method {fixed,hungarian}]\n",
            "       [--selected_lane SELECTED_LANE [SELECTED_LANE ...]]\n",
            "       [--cumsum CUMSUM]\n",
            "       [--masked MASKED]\n",
            "       config\n",
            "train.py: error: the following arguments are required: config\n"
          ]
        }
      ]
    }
  ]
}